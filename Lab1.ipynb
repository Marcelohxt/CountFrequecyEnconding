{
 "cells": [
  {
   "cell_type": "markdown",
   "id": "208c76ec",
   "metadata": {},
   "source": [
    "# <font color='blue'>Data Science Academy</font>\n",
    "# <font color='blue'>Análise de Dados com Linguagem Python</font>"
   ]
  },
  {
   "cell_type": "markdown",
   "id": "f11ff232",
   "metadata": {},
   "source": [
    "## Laboratório Prático - Count/Frequency Encoding"
   ]
  },
  {
   "cell_type": "markdown",
   "id": "7f6ac2cd",
   "metadata": {},
   "source": [
    "Usamos este dataset como referência e fizemos alterações para o Lab:\n",
    "\n",
    "https://www.kaggle.com/c/mercedes-benz-greener-manufacturing"
   ]
  },
  {
   "cell_type": "code",
   "execution_count": 5,
   "id": "4377d6ca",
   "metadata": {},
   "outputs": [],
   "source": [
    "# Imports\n",
    "import pandas as pd\n",
    "import numpy as np"
   ]
  },
  {
   "cell_type": "code",
   "execution_count": 6,
   "id": "04c3b8c4",
   "metadata": {},
   "outputs": [],
   "source": [
    "# Mostrar todas as colunas do dataframe\n",
    "pd.set_option('display.max_columns', None)"
   ]
  },
  {
   "cell_type": "code",
   "execution_count": 7,
   "id": "6ad4f214",
   "metadata": {},
   "outputs": [],
   "source": [
    "# Carrega os dados do arquivo CSV localizado na pasta 'dados', selecionando apenas as colunas 'X1', 'X2' e 'X3'\n",
    "df = pd.read_csv('dados/dataset.csv', usecols=['X1', 'X2', 'X3'])\n"
   ]
  },
  {
   "cell_type": "code",
   "execution_count": 8,
   "id": "4ca30ef0",
   "metadata": {},
   "outputs": [
    {
     "data": {
      "text/plain": [
       "(4209, 3)"
      ]
     },
     "execution_count": 8,
     "metadata": {},
     "output_type": "execute_result"
    }
   ],
   "source": [
    "# Shape\n",
    "df.shape"
   ]
  },
  {
   "cell_type": "code",
   "execution_count": 9,
   "id": "58c664f5",
   "metadata": {},
   "outputs": [
    {
     "data": {
      "text/html": [
       "<div>\n",
       "<style scoped>\n",
       "    .dataframe tbody tr th:only-of-type {\n",
       "        vertical-align: middle;\n",
       "    }\n",
       "\n",
       "    .dataframe tbody tr th {\n",
       "        vertical-align: top;\n",
       "    }\n",
       "\n",
       "    .dataframe thead th {\n",
       "        text-align: right;\n",
       "    }\n",
       "</style>\n",
       "<table border=\"1\" class=\"dataframe\">\n",
       "  <thead>\n",
       "    <tr style=\"text-align: right;\">\n",
       "      <th></th>\n",
       "      <th>X1</th>\n",
       "      <th>X2</th>\n",
       "      <th>X3</th>\n",
       "    </tr>\n",
       "  </thead>\n",
       "  <tbody>\n",
       "    <tr>\n",
       "      <th>0</th>\n",
       "      <td>v</td>\n",
       "      <td>at</td>\n",
       "      <td>a</td>\n",
       "    </tr>\n",
       "    <tr>\n",
       "      <th>1</th>\n",
       "      <td>t</td>\n",
       "      <td>av</td>\n",
       "      <td>e</td>\n",
       "    </tr>\n",
       "    <tr>\n",
       "      <th>2</th>\n",
       "      <td>w</td>\n",
       "      <td>n</td>\n",
       "      <td>c</td>\n",
       "    </tr>\n",
       "    <tr>\n",
       "      <th>3</th>\n",
       "      <td>t</td>\n",
       "      <td>n</td>\n",
       "      <td>f</td>\n",
       "    </tr>\n",
       "    <tr>\n",
       "      <th>4</th>\n",
       "      <td>v</td>\n",
       "      <td>n</td>\n",
       "      <td>f</td>\n",
       "    </tr>\n",
       "  </tbody>\n",
       "</table>\n",
       "</div>"
      ],
      "text/plain": [
       "  X1  X2 X3\n",
       "0  v  at  a\n",
       "1  t  av  e\n",
       "2  w   n  c\n",
       "3  t   n  f\n",
       "4  v   n  f"
      ]
     },
     "execution_count": 9,
     "metadata": {},
     "output_type": "execute_result"
    }
   ],
   "source": [
    "# Amostra dos dados\n",
    "df.head()"
   ]
  },
  {
   "cell_type": "code",
   "execution_count": 10,
   "id": "fd30a403",
   "metadata": {},
   "outputs": [
    {
     "data": {
      "text/plain": [
       "27"
      ]
     },
     "execution_count": 10,
     "metadata": {},
     "output_type": "execute_result"
    }
   ],
   "source": [
    "# Conta a quantidade de valores únicos presentes na coluna 'X1' do DataFrame\n",
    "len(df.X1.unique())"
   ]
  },
  {
   "cell_type": "code",
   "execution_count": 11,
   "id": "68ed420f",
   "metadata": {},
   "outputs": [
    {
     "name": "stdout",
     "output_type": "stream",
     "text": [
      "X1 - 27 categorias\n",
      "X2 - 44 categorias\n",
      "X3 - 7 categorias\n"
     ]
    }
   ],
   "source": [
    "# Vamos contar os valores únicos para cada coluna\n",
    "for i in df.columns:\n",
    "    print(i,\"-\", len(df[i].unique()), \"categorias\")"
   ]
  },
  {
   "cell_type": "code",
   "execution_count": 12,
   "id": "b66d5430",
   "metadata": {},
   "outputs": [],
   "source": [
    "# Obtém a contagem (frequência) de cada categoria presente na coluna 'X1' e a converte em um dicionário\n",
    "frequencia = df.X1.value_counts().to_dict()\n"
   ]
  },
  {
   "cell_type": "code",
   "execution_count": 13,
   "id": "0705c943",
   "metadata": {},
   "outputs": [
    {
     "data": {
      "text/plain": [
       "{'aa': 833,\n",
       " 's': 598,\n",
       " 'b': 592,\n",
       " 'l': 590,\n",
       " 'v': 408,\n",
       " 'r': 251,\n",
       " 'i': 203,\n",
       " 'a': 143,\n",
       " 'c': 121,\n",
       " 'o': 82,\n",
       " 'w': 52,\n",
       " 'z': 46,\n",
       " 'u': 37,\n",
       " 'e': 33,\n",
       " 'm': 32,\n",
       " 't': 31,\n",
       " 'h': 29,\n",
       " 'f': 23,\n",
       " 'y': 23,\n",
       " 'j': 22,\n",
       " 'n': 19,\n",
       " 'k': 17,\n",
       " 'p': 9,\n",
       " 'g': 6,\n",
       " 'ab': 3,\n",
       " 'd': 3,\n",
       " 'q': 3}"
      ]
     },
     "execution_count": 13,
     "metadata": {},
     "output_type": "execute_result"
    }
   ],
   "source": [
    "# Visualiza\n",
    "frequencia"
   ]
  },
  {
   "cell_type": "code",
   "execution_count": 14,
   "id": "6c4ac394",
   "metadata": {},
   "outputs": [],
   "source": [
    "# Agora fazemos o replace de cada categoria pela contagem/frequencia na coluna X1\n",
    "# Substitui os valores da coluna 'X1' pela sua respectiva frequência, mapeando cada valor para sua contagem \n",
    "df.X1 = df.X1.map(frequencia)"
   ]
  },
  {
   "cell_type": "code",
   "execution_count": 15,
   "id": "6722d83b",
   "metadata": {},
   "outputs": [
    {
     "data": {
      "text/html": [
       "<div>\n",
       "<style scoped>\n",
       "    .dataframe tbody tr th:only-of-type {\n",
       "        vertical-align: middle;\n",
       "    }\n",
       "\n",
       "    .dataframe tbody tr th {\n",
       "        vertical-align: top;\n",
       "    }\n",
       "\n",
       "    .dataframe thead th {\n",
       "        text-align: right;\n",
       "    }\n",
       "</style>\n",
       "<table border=\"1\" class=\"dataframe\">\n",
       "  <thead>\n",
       "    <tr style=\"text-align: right;\">\n",
       "      <th></th>\n",
       "      <th>X1</th>\n",
       "      <th>X2</th>\n",
       "      <th>X3</th>\n",
       "    </tr>\n",
       "  </thead>\n",
       "  <tbody>\n",
       "    <tr>\n",
       "      <th>0</th>\n",
       "      <td>408</td>\n",
       "      <td>at</td>\n",
       "      <td>a</td>\n",
       "    </tr>\n",
       "    <tr>\n",
       "      <th>1</th>\n",
       "      <td>31</td>\n",
       "      <td>av</td>\n",
       "      <td>e</td>\n",
       "    </tr>\n",
       "    <tr>\n",
       "      <th>2</th>\n",
       "      <td>52</td>\n",
       "      <td>n</td>\n",
       "      <td>c</td>\n",
       "    </tr>\n",
       "    <tr>\n",
       "      <th>3</th>\n",
       "      <td>31</td>\n",
       "      <td>n</td>\n",
       "      <td>f</td>\n",
       "    </tr>\n",
       "    <tr>\n",
       "      <th>4</th>\n",
       "      <td>408</td>\n",
       "      <td>n</td>\n",
       "      <td>f</td>\n",
       "    </tr>\n",
       "    <tr>\n",
       "      <th>...</th>\n",
       "      <td>...</td>\n",
       "      <td>...</td>\n",
       "      <td>...</td>\n",
       "    </tr>\n",
       "    <tr>\n",
       "      <th>4204</th>\n",
       "      <td>598</td>\n",
       "      <td>as</td>\n",
       "      <td>c</td>\n",
       "    </tr>\n",
       "    <tr>\n",
       "      <th>4205</th>\n",
       "      <td>82</td>\n",
       "      <td>t</td>\n",
       "      <td>d</td>\n",
       "    </tr>\n",
       "    <tr>\n",
       "      <th>4206</th>\n",
       "      <td>408</td>\n",
       "      <td>r</td>\n",
       "      <td>a</td>\n",
       "    </tr>\n",
       "    <tr>\n",
       "      <th>4207</th>\n",
       "      <td>251</td>\n",
       "      <td>e</td>\n",
       "      <td>f</td>\n",
       "    </tr>\n",
       "    <tr>\n",
       "      <th>4208</th>\n",
       "      <td>251</td>\n",
       "      <td>ae</td>\n",
       "      <td>c</td>\n",
       "    </tr>\n",
       "  </tbody>\n",
       "</table>\n",
       "<p>4209 rows × 3 columns</p>\n",
       "</div>"
      ],
      "text/plain": [
       "       X1  X2 X3\n",
       "0     408  at  a\n",
       "1      31  av  e\n",
       "2      52   n  c\n",
       "3      31   n  f\n",
       "4     408   n  f\n",
       "...   ...  .. ..\n",
       "4204  598  as  c\n",
       "4205   82   t  d\n",
       "4206  408   r  a\n",
       "4207  251   e  f\n",
       "4208  251  ae  c\n",
       "\n",
       "[4209 rows x 3 columns]"
      ]
     },
     "execution_count": 15,
     "metadata": {},
     "output_type": "execute_result"
    }
   ],
   "source": [
    "df"
   ]
  },
  {
   "cell_type": "markdown",
   "id": "73cc1291",
   "metadata": {},
   "source": [
    "> Fazemos o mesmo para as demais colunas."
   ]
  },
  {
   "cell_type": "code",
   "execution_count": 17,
   "id": "d16dd6df",
   "metadata": {},
   "outputs": [],
   "source": [
    "# Contagem/frequencia das categorias da coluna X2\n",
    "frequencia = df.X2.value_counts().to_dict()"
   ]
  },
  {
   "cell_type": "code",
   "execution_count": 18,
   "id": "dae14441",
   "metadata": {},
   "outputs": [],
   "source": [
    "# Agora fazemos o replace de cada categoria pela contagem/frequencia na coluna X2\n",
    "df.X2 = df.X2.map(frequencia)"
   ]
  },
  {
   "cell_type": "code",
   "execution_count": 19,
   "id": "24da8864",
   "metadata": {},
   "outputs": [],
   "source": [
    "# Contagem/frequencia das categorias da coluna X3\n",
    "frequencia = df.X3.value_counts().to_dict()"
   ]
  },
  {
   "cell_type": "code",
   "execution_count": 20,
   "id": "b255a199",
   "metadata": {},
   "outputs": [],
   "source": [
    "# Agora fazemos o replace de cada categoria pela contagem/frequencia na coluna X3\n",
    "df.X3 = df.X3.map(frequencia)"
   ]
  },
  {
   "cell_type": "code",
   "execution_count": 21,
   "id": "53beeda7",
   "metadata": {},
   "outputs": [
    {
     "data": {
      "text/plain": [
       "X1    False\n",
       "X2    False\n",
       "X3    False\n",
       "dtype: bool"
      ]
     },
     "execution_count": 21,
     "metadata": {},
     "output_type": "execute_result"
    }
   ],
   "source": [
    "# Verificamos se algum valor nulo foi gerado\n",
    "df.isnull().any()"
   ]
  },
  {
   "cell_type": "code",
   "execution_count": 22,
   "id": "f34fb1dd",
   "metadata": {},
   "outputs": [
    {
     "data": {
      "text/html": [
       "<div>\n",
       "<style scoped>\n",
       "    .dataframe tbody tr th:only-of-type {\n",
       "        vertical-align: middle;\n",
       "    }\n",
       "\n",
       "    .dataframe tbody tr th {\n",
       "        vertical-align: top;\n",
       "    }\n",
       "\n",
       "    .dataframe thead th {\n",
       "        text-align: right;\n",
       "    }\n",
       "</style>\n",
       "<table border=\"1\" class=\"dataframe\">\n",
       "  <thead>\n",
       "    <tr style=\"text-align: right;\">\n",
       "      <th></th>\n",
       "      <th>X1</th>\n",
       "      <th>X2</th>\n",
       "      <th>X3</th>\n",
       "    </tr>\n",
       "  </thead>\n",
       "  <tbody>\n",
       "    <tr>\n",
       "      <th>0</th>\n",
       "      <td>408</td>\n",
       "      <td>6</td>\n",
       "      <td>440</td>\n",
       "    </tr>\n",
       "    <tr>\n",
       "      <th>1</th>\n",
       "      <td>31</td>\n",
       "      <td>4</td>\n",
       "      <td>163</td>\n",
       "    </tr>\n",
       "    <tr>\n",
       "      <th>2</th>\n",
       "      <td>52</td>\n",
       "      <td>137</td>\n",
       "      <td>1942</td>\n",
       "    </tr>\n",
       "    <tr>\n",
       "      <th>3</th>\n",
       "      <td>31</td>\n",
       "      <td>137</td>\n",
       "      <td>1076</td>\n",
       "    </tr>\n",
       "    <tr>\n",
       "      <th>4</th>\n",
       "      <td>408</td>\n",
       "      <td>137</td>\n",
       "      <td>1076</td>\n",
       "    </tr>\n",
       "    <tr>\n",
       "      <th>...</th>\n",
       "      <td>...</td>\n",
       "      <td>...</td>\n",
       "      <td>...</td>\n",
       "    </tr>\n",
       "    <tr>\n",
       "      <th>4204</th>\n",
       "      <td>598</td>\n",
       "      <td>1659</td>\n",
       "      <td>1942</td>\n",
       "    </tr>\n",
       "    <tr>\n",
       "      <th>4205</th>\n",
       "      <td>82</td>\n",
       "      <td>29</td>\n",
       "      <td>290</td>\n",
       "    </tr>\n",
       "    <tr>\n",
       "      <th>4206</th>\n",
       "      <td>408</td>\n",
       "      <td>153</td>\n",
       "      <td>440</td>\n",
       "    </tr>\n",
       "    <tr>\n",
       "      <th>4207</th>\n",
       "      <td>251</td>\n",
       "      <td>81</td>\n",
       "      <td>1076</td>\n",
       "    </tr>\n",
       "    <tr>\n",
       "      <th>4208</th>\n",
       "      <td>251</td>\n",
       "      <td>496</td>\n",
       "      <td>1942</td>\n",
       "    </tr>\n",
       "  </tbody>\n",
       "</table>\n",
       "<p>4209 rows × 3 columns</p>\n",
       "</div>"
      ],
      "text/plain": [
       "       X1    X2    X3\n",
       "0     408     6   440\n",
       "1      31     4   163\n",
       "2      52   137  1942\n",
       "3      31   137  1076\n",
       "4     408   137  1076\n",
       "...   ...   ...   ...\n",
       "4204  598  1659  1942\n",
       "4205   82    29   290\n",
       "4206  408   153   440\n",
       "4207  251    81  1076\n",
       "4208  251   496  1942\n",
       "\n",
       "[4209 rows x 3 columns]"
      ]
     },
     "execution_count": 22,
     "metadata": {},
     "output_type": "execute_result"
    }
   ],
   "source": [
    "# Transformação realizada com sucesso\n",
    "df"
   ]
  },
  {
   "cell_type": "markdown",
   "id": "acb831ab",
   "metadata": {},
   "source": [
    "# Fim"
   ]
  },
  {
   "cell_type": "code",
   "execution_count": null,
   "id": "af3dc9af-6319-4c69-bfa5-b23c89025b5f",
   "metadata": {},
   "outputs": [],
   "source": []
  },
  {
   "cell_type": "code",
   "execution_count": null,
   "id": "4c3a2807-68ca-4d25-9e42-4c5590c9b664",
   "metadata": {},
   "outputs": [],
   "source": []
  }
 ],
 "metadata": {
  "kernelspec": {
   "display_name": "Python 3.8.8",
   "language": "python",
   "name": "py38"
  },
  "language_info": {
   "codemirror_mode": {
    "name": "ipython",
    "version": 3
   },
   "file_extension": ".py",
   "mimetype": "text/x-python",
   "name": "python",
   "nbconvert_exporter": "python",
   "pygments_lexer": "ipython3",
   "version": "3.8.20"
  }
 },
 "nbformat": 4,
 "nbformat_minor": 5
}
