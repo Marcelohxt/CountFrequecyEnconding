








# Imports
import pandas as pd
import numpy as np


# Mostrar todas as colunas do dataframe
pd.set_option('display.max_columns', None)


# Carrega os dados do arquivo CSV localizado na pasta 'dados', selecionando apenas as colunas 'X1', 'X2' e 'X3'
df = pd.read_csv('dados/dataset.csv', usecols=['X1', 'X2', 'X3'])



# Shape
df.shape


# Amostra dos dados
df.head()


# Conta a quantidade de valores únicos presentes na coluna 'X1' do DataFrame
len(df.X1.unique())


# Vamos contar os valores únicos para cada coluna
for i in df.columns:
    print(i,"-", len(df[i].unique()), "categorias")


# Obtém a contagem (frequência) de cada categoria presente na coluna 'X1' e a converte em um dicionário
frequencia = df.X1.value_counts().to_dict()



# Visualiza
frequencia


# Agora fazemos o replace de cada categoria pela contagem/frequencia na coluna X1
# Substitui os valores da coluna 'X1' pela sua respectiva frequência, mapeando cada valor para sua contagem 
df.X1 = df.X1.map(frequencia)


df





# Contagem/frequencia das categorias da coluna X2
frequencia = df.X2.value_counts().to_dict()


# Agora fazemos o replace de cada categoria pela contagem/frequencia na coluna X2
df.X2 = df.X2.map(frequencia)


# Contagem/frequencia das categorias da coluna X3
frequencia = df.X3.value_counts().to_dict()


# Agora fazemos o replace de cada categoria pela contagem/frequencia na coluna X3
df.X3 = df.X3.map(frequencia)


# Verificamos se algum valor nulo foi gerado
df.isnull().any()


# Transformação realizada com sucesso
df









