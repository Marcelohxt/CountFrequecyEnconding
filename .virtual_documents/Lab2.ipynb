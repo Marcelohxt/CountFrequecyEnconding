





# Imports
import pandas as pd
import datetime


# Extrai a data atual do sistema
data_atual = datetime.datetime.now()


data_atual


# Vamos gerar um range de datas dos 20 anteriores à data atual
date_list = [data_atual - datetime.timedelta(days = x) for x in range(0,20) ]


date_list


# Convertemos a lista em um dataframe
df = pd.DataFrame(date_list)


df.head()


# Ajusta o nome da coluna
df.columns = ['data']


df.head()


# Extraímos os dias da semana
df['dia_da_semana'] = df['data'].dt.day_name()


df


# Criamos um dicionário mapeando dia da semana com um número correspondente
# Obs: se o seu sistema estiver em português e se for necessário, use os dias da semana em português
dict_dia_semana = {'Monday':1, 
                   "Tuesday":2,
                   "Wednesday":3,
                   "Thursday":4,
                   "Friday":5,
                   "Saturday":6,
                   "Sunday":7}


# Label Encode - Substituímos o nome da semana pelo número correspondente
df['dia_semana_cod'] = df['dia_da_semana'].map(dict_dia_semana)


df









