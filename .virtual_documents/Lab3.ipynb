








# Imports
import pandas as pd
import numpy as np


# Para visualizar todas as colunas
pd.set_option("display.max_columns", None)


# Carrega algumas colunas do dataset
dados = pd.read_csv('dados/dataset.csv', usecols = ['X1','X2','X3','X4','X5','X6'])


dados.shape


dados.head()


# Categorias únicas por coluna
for cols in dados.columns:
    print(cols,':', len(dados[cols].unique()), 'categorias')


# Vamos descobrir quantas colunas adicionais iremos obter após aplicar One-Hot-Encoding
# 123 (total de categorias) - 6 colunas originais = 117
pd.get_dummies(dados, drop_first = True).shape


# Aplicamos One-Hot-Encoding
novos_dados = pd.get_dummies(dados, drop_first = True)


novos_dados


# Verificamos se algum valor nulo foi gerado
novos_dados.isnull().any()





# X1 tem 27 categorias. Vamos listar as 10 categorias com mais registros
dados.X1.value_counts(ascending = False).head(10)


# Colocamos as 10 categorias em uma nova variável Python
top_10 = [x for x in dados.X1.value_counts().head(10).index]


top_10


# Criamos uma função para criar as novas variáveis com One-Hot-Encoding
def one_hot_top10(df, column, top_10):
    for i in top_10:
        df[column + "_" + i ] = np.where(dados[column]==i,1,0)


# Executamos a função e aplicamos One-Hot-Encoding
one_hot_top10(dados, 'X1', top_10)


dados


# Extraímos top 10 de X2
top_10 = [x for x in dados.X2.value_counts().head(10).index  ]


# Executamos a função e aplicamos One-Hot-Encoding
one_hot_top10(dados, 'X2', top_10)


dados


# X3:
top_10 = [x for x in dados.X3.value_counts().head(10).index]
top_10


# Executamos a função e aplicamos One-Hot-Encoding
one_hot_top10(dados, 'X3', top_10)


# X4:
top_10 = [ x for x in dados.X4.value_counts().head(10).index]
top_10


# Executamos a função e aplicamos One-Hot-Encoding
one_hot_top10(dados, 'X4', top_10)


# X5:
top_10 = [ x for x in dados.X5.value_counts().head(10).index]
top_10


# Executamos a função e aplicamos One-Hot-Encoding
one_hot_top10(dados, 'X5', top_10)


# X6:
top_10 = [ x for x in dados.X6.value_counts().head(10).index]
top_10


# Executamos a função e aplicamos One-Hot-Encoding
one_hot_top10(dados, 'X6', top_10)


# Verificamos se algum valor nulo foi gerado
dados.isnull().any()


dados.shape


dados









